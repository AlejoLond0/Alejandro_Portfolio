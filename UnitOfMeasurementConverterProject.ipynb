{
 "cells": [
  {
   "cell_type": "markdown",
   "id": "4a52d4d7-6d66-493f-a483-b75d6e5eabf5",
   "metadata": {},
   "source": [
    "# Unit of Measurement Converter"
   ]
  },
  {
   "cell_type": "code",
   "execution_count": 3,
   "id": "cb21415c-e498-467f-a827-1023732985b3",
   "metadata": {},
   "outputs": [
    {
     "name": "stdin",
     "output_type": "stream",
     "text": [
      "Enter Starting Unit of Measurement(inches, feet, yards):  inch\n",
      "Enter Unit of Measurement to Convert to(inches, feet, or yards):  ft\n",
      "Enter Starting Measurement in Inches:  20\n"
     ]
    },
    {
     "name": "stdout",
     "output_type": "stream",
     "text": [
      "Result: 20 inches = 1.67 feet\n"
     ]
    }
   ],
   "source": [
    "# Ask the user for the starting unit of measurement\n",
    "convert_from = input(\"Enter Starting Unit of Measurement(inches, feet, yards): \")\n",
    "\n",
    "# Ask the user for the unit of measurement to convert to\n",
    "convert_to = input(\"Enter Unit of Measurement to Convert to(inches, feet, or yards): \")\n",
    "\n",
    "# Check if the starting unit is inches\n",
    "if convert_from.lower() in [\"inches\", \"in\", \"inch\"]:\n",
    "    # Get the measurement in inches\n",
    "    number_of_inches = int(input(\"Enter Starting Measurement in Inches: \"))\n",
    "    # Convert inches to feet\n",
    "    if convert_to.lower() in [\"feet\", \"foot\", \"ft\"]: \n",
    "        print(\"Result: \" + str(number_of_inches) + \" inches = \" + str(round(number_of_inches / 12, 2)) + \" feet\")\n",
    "    # Convert inches to yards\n",
    "    elif convert_to.lower() in [\"yards\", \"yd\", \"yard\", \"yds\"]:\n",
    "        print(\"Result: \" + str(number_of_inches) + \" inches = \" + str(round(number_of_inches / 36, 2)) + \" yards\")\n",
    "    # Handle incorrect input\n",
    "    else:\n",
    "        print(\"Your input is incorrect\")\n",
    "\n",
    "# Check if the starting unit is feet\n",
    "elif convert_from.lower() in [\"feet\", \"foot\", \"ft\"]:\n",
    "    # Get the measurement in feet\n",
    "    number_of_feet = int(input(\"Enter Starting Measurement in Feet: \"))\n",
    "    # Convert feet to inches\n",
    "    if convert_to.lower() in [\"inches\", \"in\", \"inch\"]:\n",
    "        print(\"Result: \" + str(number_of_feet) + \" feet = \" + str(number_of_feet * 12) + \" inches\")\n",
    "    # Convert feet to yards\n",
    "    elif convert_to.lower() in [\"yards\", \"yd\", \"yard\", \"yds\"]:\n",
    "        print(\"Result: \" + str(number_of_feet) + \" feet = \" + str(round(number_of_feet / 3, 2)) + \" yards\")\n",
    "    # Handle incorrect input\n",
    "    else:\n",
    "        print(\"Your input is incorrect\")\n",
    "\n",
    "# Check if the starting unit is yards\n",
    "elif convert_from.lower() in [\"yards\", \"yd\", \"yard\", \"yds\"]:\n",
    "    # Get the measurement in yards\n",
    "    number_of_yards = int(input(\"Enter Starting Measurement in Yards: \"))\n",
    "    # Convert yards to inches\n",
    "    if convert_to.lower() in [\"inches\", \"in\", \"inch\"]:\n",
    "        print(\"Result: \" + str(number_of_yards) + \" yards = \" + str(number_of_yards * 36) + \" inches\")\n",
    "    # Convert yards to feet\n",
    "    elif convert_to.lower() in [\"feet\", \"foot\", \"ft\"]:\n",
    "        print(\"Result: \" + str(number_of_yards) + \" yards = \" + str(number_of_yards * 3) + \" feet\")\n",
    "    # Handle incorrect input\n",
    "    else:\n",
    "        print(\"Your input is incorrect\")\n",
    "\n",
    "# Handle invalid starting unit\n",
    "else:\n",
    "    print(\"Please enter either Inches, Feet, or Yards.\")\n"
   ]
  }
 ],
 "metadata": {
  "kernelspec": {
   "display_name": "Python 3 (ipykernel)",
   "language": "python",
   "name": "python3"
  },
  "language_info": {
   "codemirror_mode": {
    "name": "ipython",
    "version": 3
   },
   "file_extension": ".py",
   "mimetype": "text/x-python",
   "name": "python",
   "nbconvert_exporter": "python",
   "pygments_lexer": "ipython3",
   "version": "3.11.7"
  }
 },
 "nbformat": 4,
 "nbformat_minor": 5
}
